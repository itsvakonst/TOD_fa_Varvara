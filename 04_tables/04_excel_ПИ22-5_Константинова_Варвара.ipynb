{
 "cells": [
  {
   "cell_type": "markdown",
   "metadata": {},
   "source": [
    "# Работа с Excel"
   ]
  },
  {
   "cell_type": "markdown",
   "metadata": {},
   "source": [
    "Материалы:\n",
    "* Макрушин С.В. Лекция 7: Работа с Excel\n",
    "* https://docs.xlwings.org/en/stable/quickstart.html\n",
    "* https://nbviewer.jupyter.org/github/pybokeh/jupyter_notebooks/blob/master/xlwings/Excel_Formatting.ipynb#search_text\n"
   ]
  },
  {
   "cell_type": "markdown",
   "metadata": {},
   "source": [
    "## Задачи для совместного разбора"
   ]
  },
  {
   "cell_type": "markdown",
   "metadata": {},
   "source": [
    "1. На листе \"Рецептура\" файла `себестоимостьА_в1.xlsx` для области \"Пшеничный хлеб\" рассчитать себестоимость всех видов продукции."
   ]
  },
  {
   "cell_type": "markdown",
   "metadata": {},
   "source": [
    "2. Результаты расчетов 1.1 сохранить в отдельном столбце области \"Пшеничный хлеб\""
   ]
  },
  {
   "cell_type": "markdown",
   "metadata": {},
   "source": [
    "3. Приблизить форматирование столбца, добавленного в задаче 2 к оформлению всей области."
   ]
  },
  {
   "cell_type": "markdown",
   "metadata": {},
   "source": [
    "4. Выполнить 3 с помощью \"протягиваемых\" формул."
   ]
  },
  {
   "cell_type": "markdown",
   "metadata": {},
   "source": [
    "## Лабораторная работа 7.1"
   ]
  },
  {
   "cell_type": "markdown",
   "metadata": {},
   "source": [
    "1. Загрузите данные из файлов `reviews_sample.csv` (__ЛР2__) и `recipes_sample.csv` (__ЛР5__) в виде `pd.DataFrame`. Обратите внимание на корректное считывание столбца(ов) с индексами. Оставьте в таблице с рецептами следующие столбцы: `id`, `name`, `minutes`, `submitted`, `description`, `n_ingredients`"
   ]
  },
  {
   "cell_type": "code",
   "execution_count": 110,
   "metadata": {},
   "outputs": [
    {
     "data": {
      "text/plain": [
       "0         NaN\n",
       "1         NaN\n",
       "2         NaN\n",
       "3         NaN\n",
       "4         4.0\n",
       "         ... \n",
       "29995    16.0\n",
       "29996     NaN\n",
       "29997     NaN\n",
       "29998     NaN\n",
       "29999     9.0\n",
       "Name: n_steps, Length: 30000, dtype: float64"
      ]
     },
     "execution_count": 110,
     "metadata": {},
     "output_type": "execute_result"
    }
   ],
   "source": [
    "import numpy as np\n",
    "import csv\n",
    "import pandas as pd\n",
    "recipes = pd.read_csv('recipes_sample.csv', delimiter = ',')\n",
    "reviews = pd.read_csv('reviews_sample.csv', delimiter = ',')\n",
    "recipes.pop('contributor_id')\n",
    "recipes.pop('n_steps')"
   ]
  },
  {
   "cell_type": "code",
   "execution_count": 111,
   "metadata": {},
   "outputs": [
    {
     "data": {
      "text/html": [
       "<div>\n",
       "<style scoped>\n",
       "    .dataframe tbody tr th:only-of-type {\n",
       "        vertical-align: middle;\n",
       "    }\n",
       "\n",
       "    .dataframe tbody tr th {\n",
       "        vertical-align: top;\n",
       "    }\n",
       "\n",
       "    .dataframe thead th {\n",
       "        text-align: right;\n",
       "    }\n",
       "</style>\n",
       "<table border=\"1\" class=\"dataframe\">\n",
       "  <thead>\n",
       "    <tr style=\"text-align: right;\">\n",
       "      <th></th>\n",
       "      <th>Unnamed: 0</th>\n",
       "      <th>user_id</th>\n",
       "      <th>recipe_id</th>\n",
       "      <th>date</th>\n",
       "      <th>rating</th>\n",
       "      <th>review</th>\n",
       "    </tr>\n",
       "  </thead>\n",
       "  <tbody>\n",
       "    <tr>\n",
       "      <th>0</th>\n",
       "      <td>370476</td>\n",
       "      <td>21752</td>\n",
       "      <td>57993</td>\n",
       "      <td>2003-05-01</td>\n",
       "      <td>5</td>\n",
       "      <td>Last week whole sides of frozen salmon fillet ...</td>\n",
       "    </tr>\n",
       "    <tr>\n",
       "      <th>1</th>\n",
       "      <td>624300</td>\n",
       "      <td>431813</td>\n",
       "      <td>142201</td>\n",
       "      <td>2007-09-16</td>\n",
       "      <td>5</td>\n",
       "      <td>So simple and so tasty!  I used a yellow capsi...</td>\n",
       "    </tr>\n",
       "    <tr>\n",
       "      <th>2</th>\n",
       "      <td>187037</td>\n",
       "      <td>400708</td>\n",
       "      <td>252013</td>\n",
       "      <td>2008-01-10</td>\n",
       "      <td>4</td>\n",
       "      <td>Very nice breakfast HH, easy to make and yummy...</td>\n",
       "    </tr>\n",
       "    <tr>\n",
       "      <th>3</th>\n",
       "      <td>706134</td>\n",
       "      <td>2001852463</td>\n",
       "      <td>404716</td>\n",
       "      <td>2017-12-11</td>\n",
       "      <td>5</td>\n",
       "      <td>These are a favorite for the holidays and so e...</td>\n",
       "    </tr>\n",
       "    <tr>\n",
       "      <th>4</th>\n",
       "      <td>312179</td>\n",
       "      <td>95810</td>\n",
       "      <td>129396</td>\n",
       "      <td>2008-03-14</td>\n",
       "      <td>5</td>\n",
       "      <td>Excellent soup!  The tomato flavor is just gre...</td>\n",
       "    </tr>\n",
       "  </tbody>\n",
       "</table>\n",
       "</div>"
      ],
      "text/plain": [
       "   Unnamed: 0     user_id  recipe_id        date  rating  \\\n",
       "0      370476       21752      57993  2003-05-01       5   \n",
       "1      624300      431813     142201  2007-09-16       5   \n",
       "2      187037      400708     252013  2008-01-10       4   \n",
       "3      706134  2001852463     404716  2017-12-11       5   \n",
       "4      312179       95810     129396  2008-03-14       5   \n",
       "\n",
       "                                              review  \n",
       "0  Last week whole sides of frozen salmon fillet ...  \n",
       "1  So simple and so tasty!  I used a yellow capsi...  \n",
       "2  Very nice breakfast HH, easy to make and yummy...  \n",
       "3  These are a favorite for the holidays and so e...  \n",
       "4  Excellent soup!  The tomato flavor is just gre...  "
      ]
     },
     "execution_count": 111,
     "metadata": {},
     "output_type": "execute_result"
    }
   ],
   "source": [
    "reviews.head()"
   ]
  },
  {
   "cell_type": "markdown",
   "metadata": {},
   "source": [
    "2. Случайным образом выберите 5% строк из каждой таблицы и сохраните две таблицы на разные листы в один файл `recipes.xlsx`. Дайте листам названия \"Рецепты\" и \"Отзывы\", соответствующие содержанию таблиц. "
   ]
  },
  {
   "cell_type": "code",
   "execution_count": 112,
   "metadata": {},
   "outputs": [
    {
     "name": "stdout",
     "output_type": "stream",
     "text": [
      "        Unnamed: 0     user_id  recipe_id        date  rating  \\\n",
      "30616       699649      110875      89751  2007-07-01       5   \n",
      "124317      985001      461834     314487  2009-03-10       5   \n",
      "3244        579273      201581      50375  2009-11-14       5   \n",
      "75598       770978      208380      30602  2006-03-02       5   \n",
      "108462      611507  2002199524     189486  2018-06-27       4   \n",
      "...            ...         ...        ...         ...     ...   \n",
      "116042      231225      636006      33934  2008-12-17       5   \n",
      "125052      938532      456858      82102  2011-11-03       3   \n",
      "96532       288307      463763     260838  2007-10-26       4   \n",
      "19816       903829      424680     380107  2009-08-06       5   \n",
      "57796       253376      401260     102617  2011-06-29       5   \n",
      "\n",
      "                                                   review  \n",
      "30616   These jewles are incredible, with and without ...  \n",
      "124317  This made for a lovely dinner last night, serv...  \n",
      "3244    I let this cook in the crockpot on low all day...  \n",
      "75598   This was the loftiest 9x5 loaf I've ever baked...  \n",
      "108462  Pretty good, unfortunately I took it out of ov...  \n",
      "...                                                   ...  \n",
      "116042  Delicious! As I was finishing beating together...  \n",
      "125052  This was just OK 4 me.  Not  bad, but wasn't g...  \n",
      "96532   This was really good.  When I put it into the ...  \n",
      "19816   The only change I made in this recipe was to u...  \n",
      "57796   This was my first try, and it was great.<br/> ...  \n",
      "\n",
      "[6335 rows x 6 columns]\n",
      "                                           name      id  minutes   submitted  \\\n",
      "18214                 mrs  morrison s mace cake  120846       55  2005-05-08   \n",
      "11699              gail s peach muffins supreme  223216       40  2007-04-17   \n",
      "23835                 sephardic spinach patties  249990       45  2007-08-30   \n",
      "5004                              challah bread  335611      200  2008-11-06   \n",
      "4102                            bumbleberry jam   97389       25  2004-08-09   \n",
      "...                                         ...     ...      ...         ...   \n",
      "29481           winter spinach potato casserole  111812       70  2005-02-24   \n",
      "13827         homemade  smoky veggie bacon salt  508965       10  2013-11-05   \n",
      "28922       vitalising cardamom saffron milk or   32188       10  2002-06-25   \n",
      "3259             blended agave nectar margarita  453425        5  2011-04-10   \n",
      "9717   eagle brand double delicious cookie bars  247641       25  2007-08-20   \n",
      "\n",
      "                                             description  n_ingredients  \n",
      "18214  according to john shields, mrs. morrison was t...            8.0  \n",
      "11699  my girlfriend gail loves peaches.  blueberries...           10.0  \n",
      "23835  keftes de espinaca -- this is the closest thin...           12.0  \n",
      "5004   a sweetish, soft and rich bread that makes del...            7.0  \n",
      "4102   all my faves in one jar!. i use berries i have...            5.0  \n",
      "...                                                  ...            ...  \n",
      "29481  this combines spinach with roasted potatoes, e...           10.0  \n",
      "13827  this stuff is addictive and the uses are endle...           11.0  \n",
      "28922  don't blame me for not telling that this, if t...            NaN  \n",
      "3259   i've just discovered agave nectar and it can n...            NaN  \n",
      "9717                         very good and easy to make!            NaN  \n",
      "\n",
      "[1500 rows x 6 columns]\n"
     ]
    }
   ],
   "source": [
    "reviews_random = reviews.sample(frac = 0.05)\n",
    "recipes_random = recipes.sample(frac = 0.05)\n",
    "with pd.ExcelWriter('recipes.xlsx') as writer:\n",
    "    reviews_random.to_excel(writer, sheet_name = 'Отзывы', index=False)\n",
    "    recipes_random.to_excel(writer, sheet_name = 'Рецепты', index=False)\n",
    "print(reviews_random)\n",
    "print(recipes_random)"
   ]
  },
  {
   "cell_type": "markdown",
   "metadata": {},
   "source": [
    "3. Используя `xlwings`, добавьте на лист `Рецепты` столбец `seconds_assign`, показывающий время выполнения рецепта в секундах. Выполните задание при помощи присваивания массива значений диапазону ячеек."
   ]
  },
  {
   "cell_type": "code",
   "execution_count": 113,
   "metadata": {},
   "outputs": [],
   "source": [
    "import xlwings as xw\n",
    "wb = xw.Book('recipes.xlsx')\n",
    "seconds_assign_column = recipes_random[['minutes']] * 60\n",
    "seconds_assign_column.columns = ['seconds_assign']\n",
    "sh_arr = wb.sheets['Рецепты']\n",
    "sh_arr.range('H1').options(index=False).value = seconds_assign_column"
   ]
  },
  {
   "cell_type": "markdown",
   "metadata": {},
   "source": [
    "4. Используя `xlwings`, добавьте на лист `Рецепты` столбец `seconds_formula`, показывающий время выполнения рецепта в секундах. Выполните задание при помощи формул Excel."
   ]
  },
  {
   "cell_type": "code",
   "execution_count": 114,
   "metadata": {},
   "outputs": [],
   "source": [
    "fml = xw.Range('I2').formula = f'=D2*60'\n",
    "sh_arr.range('I2:I1501').formula = fml\n",
    "sh_arr.range('I1').value = 'seconds_formula'"
   ]
  },
  {
   "cell_type": "markdown",
   "metadata": {},
   "source": [
    "5. Сделайте названия всех добавленных столбцов полужирными и выровняйте по центру ячейки."
   ]
  },
  {
   "cell_type": "code",
   "execution_count": 115,
   "metadata": {},
   "outputs": [],
   "source": [
    "sh_arr.range('H1').api.Font.Bold = True\n",
    "sh_arr.range('I1').api.Font.Bold = True\n",
    "sh_arr.range('H1').api.HorizontalAlignment = -4108\n",
    "sh_arr.column_width = 15"
   ]
  },
  {
   "cell_type": "markdown",
   "metadata": {},
   "source": [
    "6. Раскрасьте ячейки столбца `minutes` в соответствии со следующим правилом: если рецепт выполняется быстрее 5 минут, то цвет - зеленый; от 5 до 10 минут - жёлтый; и больше 10 - красный."
   ]
  },
  {
   "cell_type": "code",
   "execution_count": 116,
   "metadata": {},
   "outputs": [],
   "source": [
    "for el in sh_arr.range(\"C2:C1501\"):\n",
    "    if el.value < 5:\n",
    "        el.color = (0, 255, 0)\n",
    "    elif el.value <= 10:\n",
    "        el.color = (255, 255, 0)\n",
    "    else:\n",
    "        el.color = (255, 0, 0)"
   ]
  },
  {
   "cell_type": "markdown",
   "metadata": {},
   "source": [
    "7. Добавьте на лист `Рецепты`  столбец `n_reviews`, содержащий кол-во отзывов для этого рецепта. Выполните задание при помощи формул Excel."
   ]
  },
  {
   "cell_type": "code",
   "execution_count": 117,
   "metadata": {},
   "outputs": [],
   "source": [
    "sh_arr.range('J1').value = 'n_reviews'\n",
    "sh_arr.range('J1').api.Font.Bold = True\n",
    "\n",
    "\n",
    "count = len(reviews_random)\n",
    "sh_arr.range('J1').value = 'n_reviews'\n",
    "\n",
    "fml = f\"=COUNTIF(Отзывы!$C$2:Отзывы!$C${count},Отзывы!C2)\"\n",
    "sh_arr.range(\"J2:J1501\").formula = fml"
   ]
  },
  {
   "cell_type": "markdown",
   "metadata": {},
   "source": [
    "## Лабораторная работа 7.2"
   ]
  },
  {
   "cell_type": "markdown",
   "metadata": {},
   "source": [
    "8. Напишите функцию `validate()`, которая проверяет соответствие всех строк из листа `Отзывы` следующим правилам:\n",
    "    * Рейтинг - это число от 0 до 5 включительно\n",
    "    * Соответствующий рецепт имеется на листе `Рецепты`\n",
    "    \n",
    "В случае несоответствия этим правилам, выделите строку красным цветом"
   ]
  },
  {
   "cell_type": "markdown",
   "metadata": {},
   "source": [
    "9. В файле `recipes_model.csv` находится модель данных предметной области \"рецепты\". При помощи пакета `csv` считайте эти данные. При помощи пакета `xlwings` запишите данные на лист `Модель` книги `recipes_model.xlsx`, начиная с ячейки `A2`, не используя циклы. Сделайте скриншот текущего состояния листа и прикрепите в ячейку ноутбука. "
   ]
  },
  {
   "cell_type": "markdown",
   "metadata": {},
   "source": [
    "10. При помощи пакета `xlwings` добавьте в столбец J формулу для описания столбца на языке SQL. Формула должна реализовывать следующую логику:\n",
    "\n",
    "    1\\. в начале строки идут значения из столбцов В и C (значение столбца С приведено к верхнему регистру), разделенные пробелом\n",
    "    \n",
    "    2\\. далее идут слова на основе столбца \"Ключ\"\n",
    "        2.1 если в столбце \"Ключ\" указано значение \"PK\", то дальше через пробел идет ключевое слово \"PRIMARY KEY\"\n",
    "        2.2 если в столбце \"Ключ\" указано значение \"FK\", то дальше через пробел идет ключевое слово \"REFERENCES\", затем значения столбцов H и I в формате \"название_таблицы(название_столбца)\"\n",
    "        \n",
    "    3\\. если в столбце \"Обязательно к заполнению\" указано значение \"Y\" и в столбце \"Ключ\" указано не \"PK\", то дальше через пробел идет ключевое слово \"NOT NULL\".\n",
    "\n",
    "Заполните этой формулой необходимое количество строк, используя \"протягивание\". Количество строк для протягивания определите на основе данных.\n",
    "\n",
    "Сделайте скриншот текущего состояния листа и прикрепите в ячейку ноутбука."
   ]
  },
  {
   "cell_type": "markdown",
   "metadata": {},
   "source": [
    "11. При помощи пакета `xlwings` измените стилизацию листа `Модель`.\n",
    "* для заголовков добавьте заливку цвета `00ccff`\n",
    "* примените автоподбор ширины столбца;\n",
    "* сделайте шрифт заголовков полужирным;\n",
    "* добавьте таблице автофильтр.\n",
    "\n",
    "Сделайте скриншот текущего состояния листа и прикрепите в ячейку ноутбука."
   ]
  },
  {
   "cell_type": "markdown",
   "metadata": {},
   "source": [
    "12. Посчитайте количество атрибутов для каждой из сущностей. Создайте лист `Статистика` и запишите в него результат группировки, начиная с ячейки \"А1\". Визуализируйте полученный результат при помощи столбчатой диаграммы. Сохраните полученную визуализацию на лист `Статистика`, начиная с ячейки \"E2\".  Сделайте скриншот листа `Статистика` и прикрепите в ячейку ноутбука.\n",
    "\n",
    "* Вы можете воспользоваться методами для визуализации, которые поставляются вместе с объектами `pandas` (см. https://pandas.pydata.org/docs/reference/api/pandas.DataFrame.plot) "
   ]
  }
 ],
 "metadata": {
  "kernelspec": {
   "display_name": "Python 3 (ipykernel)",
   "language": "python",
   "name": "python3"
  },
  "language_info": {
   "codemirror_mode": {
    "name": "ipython",
    "version": 3
   },
   "file_extension": ".py",
   "mimetype": "text/x-python",
   "name": "python",
   "nbconvert_exporter": "python",
   "pygments_lexer": "ipython3",
   "version": "3.9.7"
  }
 },
 "nbformat": 4,
 "nbformat_minor": 4
}
