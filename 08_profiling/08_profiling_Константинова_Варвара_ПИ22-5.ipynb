{
 "cells": [
  {
   "cell_type": "markdown",
   "metadata": {},
   "source": [
    "## Оптимизация выполнения кода, векторизация, Numba"
   ]
  },
  {
   "cell_type": "markdown",
   "metadata": {},
   "source": [
    "Материалы:\n",
    "* Макрушин С.В. Лекция 3: Оптимизация выполнения кода, векторизация, Numba\n",
    "* IPython Cookbook, Second Edition (2018), глава 4\n",
    "* https://numba.pydata.org/numba-doc/latest/user/5minguide.html"
   ]
  },
  {
   "cell_type": "markdown",
   "metadata": {},
   "source": [
    "## Задачи для совместного разбора"
   ]
  },
  {
   "cell_type": "markdown",
   "metadata": {},
   "source": [
    "1. Сгенерируйте массив `A` из `N=1млн` случайных целых чисел на отрезке от 0 до 1000. Пусть `B[i] = A[i] + 100`. Посчитайте среднее значение массива `B`."
   ]
  },
  {
   "cell_type": "code",
   "execution_count": 2,
   "metadata": {},
   "outputs": [
    {
     "name": "stdout",
     "output_type": "stream",
     "text": [
      "600.01595\n"
     ]
    }
   ],
   "source": [
    "import random\n",
    "import statistics\n",
    "\n",
    "# генерируем массив A с N=1млн случайных целых чисел на отрезке от 0 до 1000\n",
    "N = 1000000\n",
    "A = [random.randint(0, 1000) for _ in range(N)]\n",
    "\n",
    "# создаем массив B\n",
    "B = [num + 100 for num in A]\n",
    "\n",
    "# вычисляем среднее значение массива B\n",
    "mean_B = statistics.mean(B)\n",
    "\n",
    "print(mean_B)"
   ]
  },
  {
   "cell_type": "markdown",
   "metadata": {},
   "source": [
    "2. Создайте таблицу 2млн строк и с 4 столбцами, заполненными случайными числами. Добавьте столбец `key`, которые содержит элементы из множества английских букв. Выберите из таблицы подмножество строк, для которых в столбце `key` указаны первые 5 английских букв."
   ]
  },
  {
   "cell_type": "code",
   "execution_count": 7,
   "metadata": {},
   "outputs": [
    {
     "name": "stdout",
     "output_type": "stream",
     "text": [
      "     A    B    C    D key\n",
      "0  488  823  308  687   E\n",
      "1  564  546  560  116   E\n",
      "2  340  898  110  174   C\n",
      "3  901  798  183  599   A\n",
      "4  369   42  249  248   D\n"
     ]
    }
   ],
   "source": [
    "import pandas as pd\n",
    "import numpy as np\n",
    "import string\n",
    "\n",
    "# создаем таблицу с 2млн строк и 4 столбцами со случайными числами\n",
    "N = 2000000\n",
    "df = pd.DataFrame(np.random.randint(0, 1000, size=(N, 4)), columns=list('ABCD'))\n",
    "\n",
    "# добавляем столбец key с случайными выборками из первых пяти букв английского алфавита\n",
    "df['key'] = np.random.choice(list(string.ascii_uppercase)[:5], N)\n",
    "\n",
    "print(df.head())"
   ]
  },
  {
   "cell_type": "markdown",
   "metadata": {},
   "source": [
    "## Лабораторная работа 3"
   ]
  },
  {
   "cell_type": "code",
   "execution_count": null,
   "metadata": {},
   "outputs": [],
   "source": [
    "# !pip install line_profiler"
   ]
  },
  {
   "cell_type": "markdown",
   "metadata": {},
   "source": [
    "1. В файлах `recipes_sample.csv` и `reviews_sample.csv` (__ЛР 2__) находится информация об рецептах блюд и отзывах на эти рецепты соответственно. Загрузите данные из файлов в виде `pd.DataFrame` с названиями `recipes` и `reviews`. Обратите внимание на корректное считывание столбца(ов) с индексами. Приведите столбцы к нужным типам.\n",
    "\n",
    "Реализуйте несколько вариантов функции подсчета среднего значения столбца `rating` из таблицы `reviews` для отзывов, оставленных в 2010 году.\n",
    "\n",
    "A. С использованием метода `DataFrame.iterrows` исходной таблицы;\n",
    "\n",
    "Б. С использованием метода `DataFrame.iterrows` таблицы, в которой сохранены только отзывы за 2010 год;\n",
    "\n",
    "В. С использованием метода `Series.mean`.\n",
    "\n",
    "Проверьте, что результаты работы всех написанных функций корректны и совпадают. Измерьте выполнения всех написанных функций.\n"
   ]
  },
  {
   "cell_type": "code",
   "execution_count": 31,
   "metadata": {},
   "outputs": [
    {
     "name": "stdout",
     "output_type": "stream",
     "text": [
      "Средний рейтинг (метод A): 4.4544402182900615 Время выполнения: 3.1983492374420166\n",
      "Средний рейтинг (метод B): 4.4544402182900615 Время выполнения: 0.3650822639465332\n",
      "Средний рейтинг (метод C): 4.4544402182900615 Время выполнения: 0.006365060806274414\n"
     ]
    }
   ],
   "source": [
    "import pandas as pd\n",
    "import time\n",
    "\n",
    "\n",
    "def calculate_mean_rating_a(reviews):\n",
    "    count = 0\n",
    "    ratings_sum = 0\n",
    "    for _, row in reviews.iterrows():\n",
    "        if pd.to_datetime(row['date']).year == 2010:\n",
    "            ratings_sum += row['rating']\n",
    "            count += 1\n",
    "    return ratings_sum / count\n",
    "\n",
    "\n",
    "def calculate_mean_rating_b(reviews):\n",
    "    count = 0\n",
    "    ratings_sum = 0\n",
    "    for _, row in reviews[reviews['date'].dt.year == 2010].iterrows():\n",
    "        ratings_sum += row['rating']\n",
    "        count += 1\n",
    "    return ratings_sum / count\n",
    "\n",
    "\n",
    "def calculate_mean_rating_c(reviews):\n",
    "    return reviews[reviews['date'].dt.year == 2010]['rating'].mean()\n",
    "\n",
    "\n",
    "recipes = pd.read_csv('recipes_sample.csv', index_col=0)\n",
    "reviews = pd.read_csv('reviews_sample.csv', index_col=0)\n",
    "\n",
    "reviews['rating'] = reviews['rating'].astype(float)\n",
    "reviews['date'] = pd.to_datetime(reviews['date'])\n",
    "\n",
    "\n",
    "start_time = time.time()\n",
    "mean_rating_a = calculate_mean_rating_a(reviews)\n",
    "end_time = time.time()\n",
    "print(f\"Средний рейтинг (метод A): {mean_rating_a} Время выполнения: {end_time-start_time}\")\n",
    "\n",
    "start_time = time.time()\n",
    "mean_rating_b = calculate_mean_rating_b(reviews)\n",
    "end_time = time.time()\n",
    "print(f\"Средний рейтинг (метод B): {mean_rating_b} Время выполнения: {end_time-start_time}\")\n",
    "\n",
    "start_time = time.time()\n",
    "mean_rating_c = calculate_mean_rating_c(reviews)\n",
    "end_time = time.time()\n",
    "print(f\"Средний рейтинг (метод C): {mean_rating_c} Время выполнения: {end_time-start_time}\")"
   ]
  },
  {
   "cell_type": "markdown",
   "metadata": {},
   "source": [
    "2. Какая из созданных функций выполняется медленнее? Что наиболее сильно влияет на скорость выполнения? Для ответа использовать профайлер `line_profiler`. Сохраните результаты работы профайлера в отдельную текстовую ячейку и прокомментируйте результаты его работы.\n",
    "\n",
    "(*). Сможете ли вы ускорить работу функции 1Б, отказавшись от использования метода `iterrows`, но не используя метод `mean`?"
   ]
  },
  {
   "cell_type": "code",
   "execution_count": 41,
   "metadata": {},
   "outputs": [],
   "source": [
    "%load_ext line_profiler\n",
    "\n",
    "%lprun -f calculate_mean_rating_a calculate_mean_rating_a(reviews)"
   ]
  },
  {
   "cell_type": "markdown",
   "metadata": {},
   "source": [
    "Total time: 12.594 s\n",
    "\n",
    "Function: calculate_mean_rating_a at line 5\n",
    "\n",
    "Line       Hits         Time  Per Hit   % Time  Line Contents\n",
    "==============================================================\n",
    "     5                                           def calculate_mean_rating_a(reviews):\n",
    "     6         1          6.0      6.0      0.0      count = 0\n",
    "     7         1          3.0      3.0      0.0      ratings_sum = 0\n",
    "     8    126696  106369440.0    839.6     84.5      for _, row in reviews.iterrows():\n",
    "     9    114602   18280001.0    159.5     14.5          if pd.to_datetime(row['date']).year == 2010:\n",
    "    10     12094    1248927.0    103.3      1.0              ratings_sum += row['rating']\n",
    "    11     12094      41319.0      3.4      0.0              count += 1\n",
    "    12         1          4.0      4.0      0.0      return ratings_sum / count"
   ]
  },
  {
   "cell_type": "code",
   "execution_count": null,
   "metadata": {},
   "outputs": [],
   "source": [
    "%lprun -f calculate_mean_rating_b calculate_mean_rating_b(reviews)"
   ]
  },
  {
   "cell_type": "markdown",
   "metadata": {},
   "source": [
    "Total time: 1.18165 s\n",
    "\n",
    "Function: calculate_mean_rating_b at line 15\n",
    "\n",
    "Line       Hits         Time  Per Hit   % Time  Line Contents\n",
    "==============================================================\n",
    "    15                                           def calculate_mean_rating_b(reviews):\n",
    "    16         1          7.0      7.0      0.0      count = 0\n",
    "    17         1          3.0      3.0      0.0      ratings_sum = 0\n",
    "    18     12094   10246205.0    847.2     86.7      for _, row in reviews[reviews['date'].dt.year == 2010].iterrows():\n",
    "    19     12094    1533351.0    126.8     13.0          ratings_sum += row['rating']\n",
    "    20     12094      36950.0      3.1      0.3          count += 1\n",
    "    21         1         12.0     12.0      0.0      return ratings_sum / count\n"
   ]
  },
  {
   "cell_type": "code",
   "execution_count": null,
   "metadata": {},
   "outputs": [],
   "source": [
    "%lprun -f calculate_mean_rating_c calculate_mean_rating_c(reviews)"
   ]
  },
  {
   "cell_type": "markdown",
   "metadata": {},
   "source": [
    "Total time: 0.0065571 s\n",
    "\n",
    "Function: calculate_mean_rating_c at line 24\n",
    "\n",
    "Line       Hits         Time  Per Hit   % Time  Line Contents\n",
    "==============================================================\n",
    "    24                                           def calculate_mean_rating_c(reviews):\n",
    "    25         1      65571.0  65571.0    100.0      return reviews[reviews['date'].dt.year == 2010]['rating'].mean()"
   ]
  },
  {
   "cell_type": "markdown",
   "metadata": {},
   "source": [
    "3. Вам предлагается воспользоваться функцией, которая собирает статистику о том, сколько отзывов содержат то или иное слово. Измерьте время выполнения этой функции. Сможете ли вы найти узкие места в коде, используя профайлер? Выпишите (словами), что в имеющемся коде реализовано неоптимально. Оптимизируйте функцию и добейтесь значительного (как минимум, на один порядок) прироста в скорости выполнения."
   ]
  },
  {
   "cell_type": "code",
   "execution_count": 43,
   "metadata": {},
   "outputs": [],
   "source": [
    "def get_word_reviews_count(df):\n",
    "    word_reviews = {}\n",
    "    for _, row in df.dropna(subset=['review']).iterrows():\n",
    "        recipe_id, review = row['recipe_id'], row['review']\n",
    "        words = review.split(' ')\n",
    "        for word in words:\n",
    "            if word not in word_reviews:\n",
    "                word_reviews[word] = []\n",
    "            word_reviews[word].append(recipe_id)\n",
    "    \n",
    "    word_reviews_count = {}\n",
    "    for _, row in df.dropna(subset=['review']).iterrows():\n",
    "        review = row['review']\n",
    "        words = review.split(' ')\n",
    "        for word in words:\n",
    "            word_reviews_count[word] = len(word_reviews[word])\n",
    "    return word_reviews_count"
   ]
  },
  {
   "cell_type": "code",
   "execution_count": 46,
   "metadata": {},
   "outputs": [],
   "source": [
    "%lprun -f get_word_reviews_count get_word_reviews_count(reviews)"
   ]
  },
  {
   "cell_type": "markdown",
   "metadata": {},
   "source": [
    "**Total time: 39.6466 s**\n",
    "\n",
    "Function: get_word_reviews_count at line 1\n",
    "\n",
    "Line #      Hits         Time  Per Hit   % Time  Line Contents\n",
    "==============================================================\n",
    "     1                                           def get_word_reviews_count(df):\n",
    "     2         1          4.0      4.0      0.0      word_reviews = {}\n",
    "     3    126679  113214133.0    893.7     28.6      for _, row in df.dropna(subset=['review']).iterrows():\n",
    "     4    126679   28688792.0    226.5      7.2          recipe_id, review = row['recipe_id'], row['review']\n",
    "     5    126679    3108442.0     24.5      0.8          words = review.split(' ')\n",
    "     6   6792010   14647244.0      2.2      3.7          for word in words:\n",
    "     7   6617066   22070375.0      3.3      5.6              if word not in word_reviews:\n",
    "     8    174944     666738.0      3.8      0.2                  word_reviews[word] = []\n",
    "     9   6792010   29539194.0      4.3      7.5              word_reviews[word].append(recipe_id)\n",
    "    10                                               \n",
    "    11         1          3.0      3.0      0.0      word_reviews_count = {}\n",
    "    12    126679  112783072.0    890.3     28.4      for _, row in df.dropna(subset=['review']).iterrows():\n",
    "    13    126679   16290317.0    128.6      4.1          review = row['review']\n",
    "    14    126679    3077365.0     24.3      0.8          words = review.split(' ')\n",
    "    15   6792010   14080342.0      2.1      3.6          for word in words:\n",
    "    16   6792010   38300167.0      5.6      9.7              word_reviews_count[word] = len(word_reviews[word])\n",
    "    17         1          3.0      3.0      0.0      return word_reviews_count"
   ]
  },
  {
   "cell_type": "markdown",
   "metadata": {},
   "source": [
    "Чтобы оптимизировать функцию, мы можем использовать один цикл для перебора строк и одновременного обновления словаря слов и связанных с ними идентификаторов просмотра. Затем мы можем один раз пройтись по словарю и подсчитать количество отзывов для каждого слова. Такой подход устраняет необходимость в нескольких циклах и вызовах функции len(). Вот оптимизированная реализация:"
   ]
  },
  {
   "cell_type": "code",
   "execution_count": 48,
   "metadata": {},
   "outputs": [],
   "source": [
    "def get_word_reviews_count_optimized(df):\n",
    "    word_reviews = {}\n",
    "    for _, row in df.dropna(subset=['review']).iterrows():\n",
    "        recipe_id, review = row['recipe_id'], row['review']\n",
    "        words = set(review.split(' '))\n",
    "        for word in words:\n",
    "            if word not in word_reviews:\n",
    "                word_reviews[word] = set()\n",
    "            word_reviews[word].add(recipe_id)\n",
    "    \n",
    "    word_reviews_count = {}\n",
    "    for word in word_reviews:\n",
    "        word_reviews_count[word] = len(word_reviews[word])\n",
    "    return word_reviews_count"
   ]
  },
  {
   "cell_type": "code",
   "execution_count": 49,
   "metadata": {},
   "outputs": [],
   "source": [
    "%lprun -f get_word_reviews_count_optimized get_word_reviews_count_optimized(reviews)"
   ]
  },
  {
   "cell_type": "markdown",
   "metadata": {},
   "source": [
    "**Total time: 22.4799 s**      \n",
    "\n",
    "Function: get_word_reviews_count_optimized at line 1\n",
    "\n",
    "Line #      Hits         Time  Per Hit   % Time  Line Contents\n",
    "==============================================================\n",
    "     1                                           def get_word_reviews_count_optimized(df):\n",
    "     2         1          5.0      5.0      0.0      word_reviews = {}\n",
    "     3    126679  119682724.0    944.8     53.2      for _, row in df.dropna(subset=['review']).iterrows():\n",
    "     4    126679   29348042.0    231.7     13.1          recipe_id, review = row['recipe_id'], row['review']\n",
    "     5    126679    7198896.0     56.8      3.2          words = set(review.split(' '))\n",
    "     6   5387307   12834974.0      2.4      5.7          for word in words:\n",
    "     7   5212363   19513779.0      3.7      8.7              if word not in word_reviews:\n",
    "     8    174944     879073.0      5.0      0.4                  word_reviews[word] = set()\n",
    "     9   5387307   33664959.0      6.2     15.0              word_reviews[word].add(recipe_id)\n",
    "    10                                               \n",
    "    11         1          3.0      3.0      0.0      word_reviews_count = {}\n",
    "    12    174944     443649.0      2.5      0.2      for word in word_reviews:\n",
    "    13    174944    1232615.0      7.0      0.5          word_reviews_count[word] = len(word_reviews[word])\n",
    "    14         1          3.0      3.0      0.0      return word_reviews_count"
   ]
  },
  {
   "cell_type": "markdown",
   "metadata": {},
   "source": [
    "4. Напишите несколько версий функции `MAPE` (см. [MAPE](https://en.wikipedia.org/wiki/Mean_absolute_percentage_error)) для расчета среднего абсолютного процентного отклонения значения рейтинга отзыва на рецепт от среднего значения рейтинга по всем отзывам для этого рецепта. \n",
    "    1. Без использования векторизованных операций и методов массивов `numpy` и без использования `numba`\n",
    "    2. Без использования векторизованных операций и методов массивов `numpy`, но с использованием `numba`\n",
    "    3. С использованием векторизованных операций и методов массивов `numpy`, но без использования `numba`\n",
    "    4. C использованием векторизованных операций и методов массивов `numpy` и `numba`\n",
    "    \n",
    "Измерьте время выполнения каждой из реализаций.\n",
    "\n",
    "Замечание: удалите из выборки отзывы с нулевым рейтингом.\n"
   ]
  },
  {
   "cell_type": "code",
   "execution_count": 71,
   "metadata": {},
   "outputs": [],
   "source": [
    "import pandas as pd\n",
    "import numpy as np\n",
    "from numba import jit\n",
    "\n",
    "# удаляем отзывы с нулевым рейтингом.\n",
    "reviews = reviews[reviews['rating'] > 0]\n",
    "\n",
    "def mape(ratings):\n",
    "    \"\"\"\n",
    "    Calculate the MAPE for the given ratings.\n",
    "    \"\"\"\n",
    "    mean_rating = np.mean(ratings)\n",
    "    abs_pct_error = np.abs(ratings - mean_rating) / mean_rating\n",
    "    mape = np.mean(abs_pct_error) * 100\n",
    "    return mape\n",
    "\n",
    "# Версия 1: Без использования векторизованных операций и методов массивов numpy и без использования numba\n",
    "def mape_v1(reviews):\n",
    "    mape_values = []\n",
    "    for recipe_id in reviews['recipe_id'].unique():\n",
    "        recipe_reviews = reviews[reviews['recipe_id'] == recipe_id]\n",
    "        ratings = recipe_reviews['rating']\n",
    "        mape_ = mape(ratings)\n",
    "        mape_values.append(mape_)\n",
    "    return mape_values\n",
    "\n",
    "# Версия 2: Без использования векторизованных операций и методов массивов numpy, но с использованием numba\n",
    "@jit(nopython=True)\n",
    "def mape_numba(ratings, mean_rating):\n",
    "    \"\"\"\n",
    "    Calculate the MAPE for the given ratings using numba to speed up the\n",
    "    calculations.\n",
    "    \"\"\"\n",
    "    n = ratings.shape[0]\n",
    "    abs_pct_error = np.empty(n)\n",
    "    for i in range(n):\n",
    "        abs_pct_error[i] = abs(ratings[i] - mean_rating) / mean_rating\n",
    "    mape = np.mean(abs_pct_error) * 100\n",
    "    return mape\n",
    "\n",
    "def mape_v2(reviews):\n",
    "    mape_values = []\n",
    "    for recipe_id in reviews['recipe_id'].unique():\n",
    "        recipe_reviews = reviews[reviews['recipe_id'] == recipe_id]\n",
    "        ratings = recipe_reviews['rating']\n",
    "        mean_rating = np.mean(ratings)\n",
    "        mape_ = mape_numba(ratings.values, mean_rating)\n",
    "        mape_values.append(mape_)\n",
    "    return mape_values\n",
    "\n",
    "                                   \n",
    "# Версия 3: С использованием векторизованных операций и методов массивов numpy, но без использования numba\n",
    "def mape_v3(reviews):\n",
    "    recipe_ids = reviews['recipe_id'].unique()\n",
    "    mean_ratings = reviews.groupby('recipe_id')['rating'].transform('mean')\n",
    "    mape_values = []\n",
    "    for i, recipe_id in enumerate(recipe_ids):\n",
    "        recipe_reviews = reviews[reviews['recipe_id'] == recipe_id]\n",
    "        ratings = recipe_reviews['rating']\n",
    "        mean_rating = mean_ratings[i]\n",
    "        abs_pct_error = np.abs(ratings - mean_rating) / mean_rating\n",
    "        mape = np.mean(abs_pct_error) * 100\n",
    "        mape_values.append(mape)\n",
    "    return mape_values\n",
    "\n",
    "# Версия 4: C использованием векторизованных операций и методов массивов numpy и numba\n",
    "@jit(nopython=True)\n",
    "def mape_numba_v2(ratings, mean_rating):\n",
    "    \"\"\"\n",
    "    Calculate the MAPE for the given ratings using vectorization and numba to\n",
    "    speed up the calculations.\n",
    "    \"\"\"\n",
    "    abs_pct_error = np.abs(ratings - mean_rating) / mean_rating\n",
    "    mape = np.mean(abs_pct_error) * 100\n",
    "    return mape\n",
    "\n",
    "def mape_v4(reviews):\n",
    "    recipe_ids = reviews['recipe_id'].unique()\n",
    "    mean_ratings = reviews.groupby('recipe_id')['rating'].transform('mean').values\n",
    "    mape_values = np.empty(len(recipe_ids))\n",
    "    for i, recipe_id in enumerate(recipe_ids):\n",
    "        recipe_reviews = reviews[reviews['recipe_id'] == recipe_id]\n",
    "        ratings = recipe_reviews['rating'].values\n",
    "        mean_rating = mean_ratings[i]\n",
    "        mape = mape_numba_v2(ratings, mean_rating)\n",
    "        mape_values[i] = mape\n",
    "    return mape_values\n",
    "\n"
   ]
  },
  {
   "cell_type": "code",
   "execution_count": 59,
   "metadata": {},
   "outputs": [],
   "source": [
    "%lprun -f mape_v1 mape_v1(reviews)"
   ]
  },
  {
   "cell_type": "markdown",
   "metadata": {},
   "source": [
    "**Total time: 36.2507 s**\n",
    "\n",
    "Function: mape_v1 at line 25\n",
    "\n",
    "Line #      Hits         Time  Per Hit   % Time  Line Contents\n",
    "==============================================================\n",
    "    25                                           def mape_v1(reviews):\n",
    "    26         1          7.0      7.0      0.0      mape_values = []\n",
    "    27     27440     200411.0      7.3      0.1      for recipe_id in reviews['recipe_id'].unique():\n",
    "    28     27440  139745092.0   5092.8     38.5          recipe_reviews = reviews[reviews['recipe_id'] == recipe_id]\n",
    "    29     27440   16363852.0    596.4      4.5          ratings = recipe_reviews['rating']\n",
    "    30     27440  206002419.0   7507.4     56.8          mape_ = mape(ratings)\n",
    "    31     27440     194814.0      7.1      0.1          mape_values.append(mape_)\n",
    "    32         1          2.0      2.0      0.0      return mape_values"
   ]
  },
  {
   "cell_type": "code",
   "execution_count": 62,
   "metadata": {},
   "outputs": [],
   "source": [
    "%lprun -f mape_v2 mape_v2(reviews)"
   ]
  },
  {
   "cell_type": "markdown",
   "metadata": {},
   "source": [
    "**Total time: 18.5514 s**\n",
    "\n",
    "Function: mape_v2 at line 48\n",
    "\n",
    "Line #      Hits         Time  Per Hit   % Time  Line Contents\n",
    "==============================================================\n",
    "    48                                           def mape_v2(reviews):\n",
    "    49         1          6.0      6.0      0.0      mape_values = []\n",
    "    50     27440     178268.0      6.5      0.1      for recipe_id in reviews['recipe_id'].unique():\n",
    "    51     27440  127306976.0   4639.5     68.6          recipe_reviews = reviews[reviews['recipe_id'] == recipe_id]\n",
    "    52     27440   15225903.0    554.9      8.2          ratings = recipe_reviews['rating']\n",
    "    53     27440   38582228.0   1406.1     20.8          mean_rating = np.mean(ratings)\n",
    "    54     27440    4060366.0    148.0      2.2          mape_ = mape_numba(ratings.values, mean_rating)\n",
    "    55     27440     160569.0      5.9      0.1          mape_values.append(mape_)\n",
    "    56         1          2.0      2.0      0.0      return mape_values"
   ]
  },
  {
   "cell_type": "code",
   "execution_count": 67,
   "metadata": {},
   "outputs": [],
   "source": [
    "%lprun -f mape_v4 mape_v4(reviews)"
   ]
  },
  {
   "cell_type": "markdown",
   "metadata": {},
   "source": [
    "Total time: 15.5426 s\n",
    "\n",
    "Function: mape_v4 at line 84\n",
    "\n",
    "Line #      Hits         Time  Per Hit   % Time  Line Contents\n",
    "==============================================================\n",
    "    84                                           def mape_v4(reviews):\n",
    "    85         1      27888.0  27888.0      0.0      recipe_ids = reviews['recipe_id'].unique()\n",
    "    86         1     115180.0 115180.0      0.1      mean_ratings = reviews.groupby('recipe_id')['rating'].transform('mean').values\n",
    "    87         1         39.0     39.0      0.0      mape_values = np.empty(len(recipe_ids))\n",
    "    88     27440     222061.0      8.1      0.1      for i, recipe_id in enumerate(recipe_ids):\n",
    "    89     27440  132584017.0   4831.8     85.3          recipe_reviews = reviews[reviews['recipe_id'] == recipe_id]\n",
    "    90     27440   16843852.0    613.8     10.8          ratings = recipe_reviews['rating'].values\n",
    "    91     27440     152456.0      5.6      0.1          mean_rating = mean_ratings[i]\n",
    "    92     27440    5296185.0    193.0      3.4          mape = mape_numba_v2(ratings, mean_rating)\n",
    "    93     27440     184743.0      6.7      0.1          mape_values[i] = mape\n",
    "    94         1          2.0      2.0      0.0      return mape_values"
   ]
  },
  {
   "cell_type": "code",
   "execution_count": null,
   "metadata": {},
   "outputs": [],
   "source": []
  }
 ],
 "metadata": {
  "kernelspec": {
   "display_name": "Python 3 (ipykernel)",
   "language": "python",
   "name": "python3"
  },
  "language_info": {
   "codemirror_mode": {
    "name": "ipython",
    "version": 3
   },
   "file_extension": ".py",
   "mimetype": "text/x-python",
   "name": "python",
   "nbconvert_exporter": "python",
   "pygments_lexer": "ipython3",
   "version": "3.11.1"
  }
 },
 "nbformat": 4,
 "nbformat_minor": 4
}
