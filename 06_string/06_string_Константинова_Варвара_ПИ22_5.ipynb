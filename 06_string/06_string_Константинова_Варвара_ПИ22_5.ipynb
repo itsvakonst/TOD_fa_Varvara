{
 "cells": [
  {
   "cell_type": "markdown",
   "metadata": {
    "id": "aJbnDuOoh84f"
   },
   "source": [
    "# Работа со строковыми значениями"
   ]
  },
  {
   "cell_type": "markdown",
   "metadata": {
    "id": "Uv1b43gNh84l"
   },
   "source": [
    "__Автор задач: Блохин Н.В. (NVBlokhin@fa.ru)__\n",
    "\n",
    "Материалы:\n",
    "* Макрушин С.В. Лекция \"Работа со строковыми значениям\"\n",
    "* https://pyformat.info/\n",
    "* https://docs.python.org/3/library/re.html\n",
    "    * https://docs.python.org/3/library/re.html#flags\n",
    "    * https://docs.python.org/3/library/re.html#functions\n",
    "* https://pythonru.com/primery/primery-primeneniya-regulyarnyh-vyrazheniy-v-python\n",
    "* https://kanoki.org/2019/11/12/how-to-use-regex-in-pandas/\n",
    "* https://realpython.com/nltk-nlp-python/"
   ]
  },
  {
   "cell_type": "markdown",
   "metadata": {
    "id": "n_hwpK4Xh84m"
   },
   "source": [
    "## Задачи для совместного разбора"
   ]
  },
  {
   "cell_type": "markdown",
   "metadata": {
    "id": "9n9sM3clh84m"
   },
   "source": [
    "1. Вывести на экран данные из словаря `obj` построчно в виде `k = v`, задав формат таким образом, чтобы знак равенства оказался на одной и той же позиции во всех строках. Строковые литералы обернуть в кавычки."
   ]
  },
  {
   "cell_type": "code",
   "execution_count": 3,
   "metadata": {
    "colab": {
     "base_uri": "https://localhost:8080/"
    },
    "id": "Pt7tL_AWh84n",
    "outputId": "5b8396dc-8354-416d-fd2a-398e6ebfbc97"
   },
   "outputs": [
    {
     "name": "stdout",
     "output_type": "stream",
     "text": [
      "website = https://github.com\n",
      "password = qwerty213\n",
      "login = vasya_pupkin\n"
     ]
    }
   ],
   "source": [
    "obj = {\n",
    "    \"website\": \"https://github.com\",\n",
    "    \"password\": \"qwerty213\",\n",
    "    \"login\": \"vasya_pupkin\"\n",
    "}\n",
    "\n",
    "for key, value in obj.items():\n",
    "    print(\"{} = {}\".format(key, value))"
   ]
  },
  {
   "cell_type": "markdown",
   "metadata": {
    "id": "cNWBKM1Ch84q"
   },
   "source": [
    "2. Написать регулярное выражение,которое позволит найти номера групп студентов."
   ]
  },
  {
   "cell_type": "code",
   "execution_count": 4,
   "metadata": {
    "colab": {
     "base_uri": "https://localhost:8080/"
    },
    "id": "BYeKHVdth84r",
    "outputId": "0cdf708c-35cc-45e4-bed8-75a7542d3469"
   },
   "outputs": [
    {
     "name": "stdout",
     "output_type": "stream",
     "text": [
      "Евгения гр.ПМ19-1 : ['ПМ19-1']\n",
      "Илья пм 20-4 : ['пм 20-4']\n",
      "Анна 20-3 : [' 20-3']\n"
     ]
    }
   ],
   "source": [
    "import pandas as pd\n",
    "import re\n",
    "\n",
    "obj = pd.Series([\"Евгения гр.ПМ19-1\", \"Илья пм 20-4\", \"Анна 20-3\"])\n",
    "\n",
    "pattern = re.compile(r'(?:ПМ)?\\s?\\d+-\\d', re.I)\n",
    "for item in obj:\n",
    "    print(f'{item} : {pattern.findall(item)}')"
   ]
  },
  {
   "cell_type": "markdown",
   "metadata": {
    "id": "plM4p8Xfh84r"
   },
   "source": [
    "3. Разбейте текст формулировки задачи 2 на слова."
   ]
  },
  {
   "cell_type": "code",
   "execution_count": 6,
   "metadata": {
    "colab": {
     "base_uri": "https://localhost:8080/"
    },
    "id": "0HOwr89nh84r",
    "outputId": "5b9fc343-709c-4e93-e3e4-0117911bbe5e"
   },
   "outputs": [
    {
     "name": "stderr",
     "output_type": "stream",
     "text": [
      "[nltk_data] Downloading package punkt to\n",
      "[nltk_data]     C:\\Users\\VareNiC\\AppData\\Roaming\\nltk_data...\n",
      "[nltk_data]   Unzipping tokenizers\\punkt.zip.\n"
     ]
    },
    {
     "data": {
      "text/plain": [
       "True"
      ]
     },
     "execution_count": 6,
     "metadata": {},
     "output_type": "execute_result"
    }
   ],
   "source": [
    "import nltk\n",
    "nltk.download('punkt')"
   ]
  },
  {
   "cell_type": "code",
   "execution_count": 8,
   "metadata": {
    "colab": {
     "base_uri": "https://localhost:8080/"
    },
    "id": "koH4LrFih84s",
    "outputId": "d41e5201-4d7f-4328-aa9a-6939a4ed6c37"
   },
   "outputs": [
    {
     "data": {
      "text/plain": [
       "['Написать',\n",
       " 'регулярное',\n",
       " 'выражение',\n",
       " 'которое',\n",
       " 'позволит',\n",
       " 'найти',\n",
       " 'номера',\n",
       " 'групп',\n",
       " 'студентов']"
      ]
     },
     "execution_count": 8,
     "metadata": {},
     "output_type": "execute_result"
    }
   ],
   "source": [
    "text = \"Написать регулярное выражение,которое позволит найти номера групп студентов.\"\n",
    "tokenizer = nltk.tokenize.RegexpTokenizer(r'\\w+')\n",
    "tokenizer.tokenize(text)"
   ]
  },
  {
   "cell_type": "markdown",
   "metadata": {
    "id": "Beww8oAVh84t"
   },
   "source": [
    "## Лабораторная работа 6"
   ]
  },
  {
   "cell_type": "markdown",
   "metadata": {
    "id": "0VRRjBvch84t"
   },
   "source": [
    "### Форматирование строк"
   ]
  },
  {
   "cell_type": "markdown",
   "metadata": {
    "id": "Dxnp2i3Nh84t"
   },
   "source": [
    "1\\. Загрузите данные из файла `recipes_sample.csv` (__ЛР2__) в виде `pd.DataFrame` `recipes` При помощи форматирования строк выведите информацию об id рецепта и времени выполнения 5 случайных рецептов в виде таблицы следующего вида:\n",
    "\n",
    "    \n",
    "    |      id      |  minutes  |\n",
    "    |--------------------------|\n",
    "    |    61178     |    65     |\n",
    "    |    202352    |    80     |\n",
    "    |    364322    |    150    |\n",
    "    |    26177     |    20     |\n",
    "    |    224785    |    35     |\n",
    "    \n",
    "Обратите внимание, что ширина столбцов заранее неизвестна и должна рассчитываться динамически, в зависимости от тех данных, которые были выбраны. "
   ]
  },
  {
   "cell_type": "code",
   "execution_count": 9,
   "metadata": {
    "id": "nSjEQuI0h84u"
   },
   "outputs": [],
   "source": [
    "import pandas as pd"
   ]
  },
  {
   "cell_type": "code",
   "execution_count": 10,
   "metadata": {
    "id": "b_7sl4Rah84u"
   },
   "outputs": [],
   "source": [
    "recipes = pd.read_csv('recipes_sample.csv', on_bad_lines=\"skip\", engine='python')"
   ]
  },
  {
   "cell_type": "code",
   "execution_count": 11,
   "metadata": {
    "colab": {
     "base_uri": "https://localhost:8080/"
    },
    "id": "sCHPx0wNmk3E",
    "outputId": "44cacc1d-24fa-4823-e371-a557c83a3231"
   },
   "outputs": [
    {
     "name": "stdout",
     "output_type": "stream",
     "text": [
      "|   id   | minutes |\n",
      "|--------|---------|\n",
      "| 71531  |   65    |\n",
      "| 169484 |   40    |\n",
      "| 189307 |   16    |\n",
      "| 186900 |   10    |\n",
      "| 296821 |   55    |\n"
     ]
    }
   ],
   "source": [
    "random_rows = recipes[['id', 'minutes']].sample(n=5)\n",
    "\n",
    "id_width = random_rows['id'].apply(str).apply(len).max()\n",
    "time_width = random_rows['minutes'].apply(str).apply(len).max()\n",
    "if time_width < len('minutes'):\n",
    "  time_width = len('minutes')\n",
    "\n",
    "print(\"| {:^{id_width}} | {:^{time_width}} |\".format(\"id\", \"minutes\", id_width=id_width, time_width=time_width))\n",
    "print(\"|\" + \"-\"*(id_width+2) + \"|\" + \"-\"*(time_width+2) + \"|\")\n",
    "\n",
    "for _, row in random_rows.iterrows():\n",
    "    print(\"| {:^{id_width}} | {:^{time_width}} |\".format(row['id'], row['minutes'], id_width=id_width, time_width=time_width))\n"
   ]
  },
  {
   "cell_type": "markdown",
   "metadata": {
    "id": "R6LcJIdfh84w"
   },
   "source": [
    "2\\. Напишите функцию `show_info`, которая по данным о рецепте создает строку (в смысле объекта python) с описанием следующего вида:\n",
    "\n",
    "```\n",
    "\"Название Из Нескольких Слов\"\n",
    "\n",
    "1. Шаг 1.\n",
    "2. Шаг 2.\n",
    "----------\n",
    "Автор: contributor_id\n",
    "Среднее время приготовления: minutes минут\n",
    "```\n",
    "\n",
    "    \n",
    "Данные для создания строки получите из файлов `recipes_sample.csv` (__ЛР2__) и `steps_sample.xml` (__ЛР3__). \n",
    "Вызовите данную функцию для рецепта с id `170895` и выведите (через `print`) полученную строку на экран."
   ]
  },
  {
   "cell_type": "code",
   "execution_count": 12,
   "metadata": {
    "colab": {
     "base_uri": "https://localhost:8080/"
    },
    "id": "I9vKa8qeqVu1",
    "outputId": "3e268e74-6d40-4610-d368-32c3ca3ef544"
   },
   "outputs": [
    {
     "name": "stdout",
     "output_type": "stream",
     "text": [
      "<xml.etree.ElementTree.ElementTree object at 0x000001CE1C54F790>\n"
     ]
    }
   ],
   "source": [
    "import xml.etree.ElementTree as ET\n",
    "\n",
    "steps = ET.parse('steps_sample.xml')\n",
    "print(steps)\n"
   ]
  },
  {
   "cell_type": "code",
   "execution_count": 23,
   "metadata": {
    "id": "HD-NQwBLook7"
   },
   "outputs": [],
   "source": [
    "import pandas as pd\n",
    "import xml.etree.ElementTree as ET\n",
    "from bs4 import BeautifulSoup\n",
    "\n",
    "recipes_dct = {}\n",
    "\n",
    "def show_info(recipe_id):\n",
    "    global recipes_dct \n",
    "\n",
    "    recipes = pd.read_csv('recipes_sample.csv', on_bad_lines=\"skip\", engine='python')\n",
    "    with open (\"steps_sample.xml\", 'r', encoding = 'utf-8') as fp:\n",
    "      data = BeautifulSoup(fp,'xml')\n",
    "    \n",
    "    for recipe in data.find_all('recipe'):\n",
    "      r_id = int(recipe.id.contents[0])\n",
    "      steps = [step.text for step in recipe.find('steps').find_all('step')]\n",
    "      recipes_dct[r_id] = steps\n",
    "\n",
    "    steps_text = \"\"\n",
    "    for step_num, step_text in enumerate(recipes_dct[recipe_id]):\n",
    "      steps_text += f'{step_num + 1}. {step_text.capitalize()}\\n'\n",
    "\n",
    "    recipe = recipes.loc[recipes['id'] == recipe_id]\n",
    "    if recipe.empty:\n",
    "        return f\"No recipe found with id {recipe_id}\"\n",
    "    \n",
    "    title = recipe['name'].values[0].title()\n",
    "    author = recipe['contributor_id'].values[0]\n",
    "    time = recipe['minutes'].values[0]\n",
    "    \n",
    "    output = f'\"{title}\"\\n\\n{steps_text}----------\\nАвтор: {author}\\nСреднее время приготовления: {time} минут'\n",
    "    return output\n"
   ]
  },
  {
   "cell_type": "code",
   "execution_count": 24,
   "metadata": {
    "colab": {
     "base_uri": "https://localhost:8080/"
    },
    "id": "5se0ITZ7owu7",
    "outputId": "5bb28b6b-f270-4279-8771-b7d8de21d2ea"
   },
   "outputs": [
    {
     "name": "stdout",
     "output_type": "stream",
     "text": [
      "\"Leeks And Parsnips  Sauteed Or Creamed\"\n",
      "\n",
      "1. Clean the leeks and discard the dark green portions\n",
      "2. Cut the leeks lengthwise then into one-inch pieces\n",
      "3. Melt the butter in a medium skillet , med\n",
      "4. Heat\n",
      "5. Add the garlic and fry 'til fragrant\n",
      "6. Add leeks and fry until the leeks are tender , about 6-minutes\n",
      "7. Meanwhile , peel and chunk the parsnips into one-inch pieces\n",
      "8. Place in a steaming basket and steam 'til they are as tender as you prefer\n",
      "9. I like them fork-tender\n",
      "10. Drain parsnips and add to the skillet with the leeks\n",
      "11. Add salt and pepper\n",
      "12. Gently sautee together for 5-minutes\n",
      "13. At this point you can serve it , or continue on and cream it:\n",
      "14. In a jar with a screw top , add the half-n-half and arrowroot\n",
      "15. Shake 'til blended\n",
      "16. Turn heat to low under the leeks and parsnips\n",
      "17. Pour in the arrowroot mixture , stirring gently as you pour\n",
      "18. If too thick , gradually add the water\n",
      "19. Let simmer for a couple of minutes\n",
      "20. Taste to adjust seasoning , probably an additional 1 / 2 teaspoon salt\n",
      "21. Serve warm\n",
      "----------\n",
      "Автор: 8377\n",
      "Среднее время приготовления: 27 минут\n"
     ]
    }
   ],
   "source": [
    "print(show_info(170895))"
   ]
  },
  {
   "cell_type": "markdown",
   "metadata": {
    "id": "f3m2RvvHh841"
   },
   "source": [
    "## Работа с регулярными выражениями"
   ]
  },
  {
   "cell_type": "markdown",
   "metadata": {
    "id": "P96AoSh8h841"
   },
   "source": [
    "3\\. Напишите регулярное выражение, которое ищет следующий паттерн в строке: число (1 цифра или более), затем пробел, затем слова: hour или hours или minute или minutes. Произведите поиск по данному регулярному выражению в каждом шаге рецепта с id 25082. Выведите на экран все непустые результаты, найденные по данному шаблону."
   ]
  },
  {
   "cell_type": "code",
   "execution_count": 25,
   "metadata": {
    "id": "fP1zaxP8h841"
   },
   "outputs": [],
   "source": [
    "import re"
   ]
  },
  {
   "cell_type": "code",
   "execution_count": 26,
   "metadata": {
    "colab": {
     "base_uri": "https://localhost:8080/"
    },
    "id": "OjdZNAtnh842",
    "outputId": "ada10f5d-c159-4dda-9ee2-3e1942105ee4"
   },
   "outputs": [
    {
     "name": "stdout",
     "output_type": "stream",
     "text": [
      "['20 minutes']\n",
      "['10 minutes']\n",
      "['2 hours']\n",
      "['10 minutes']\n",
      "['20 minutes', '30 minutes']\n"
     ]
    }
   ],
   "source": [
    "obj = pd.Series(recipes_dct[25082])\n",
    "\n",
    "patt = re.compile(r'\\d{1,}\\s(?:hours|hour|minutes|minute)', re.I)\n",
    "for item in obj:\n",
    "    if patt.findall(item) == []:\n",
    "        continue\n",
    "    print(patt.findall(item))"
   ]
  },
  {
   "cell_type": "markdown",
   "metadata": {
    "id": "PUEqWIn9h842"
   },
   "source": [
    "4\\. Напишите регулярное выражение, которое ищет шаблон вида \"this..., but\" _в начале строки_ . Между словом \"this\" и частью \", but\" может находиться произвольное число букв, цифр, знаков подчеркивания и пробелов. Никаких других символов вместо многоточия быть не может. Пробел между запятой и словом \"but\" может присутствовать или отсутствовать.\n",
    "\n",
    "Используя строковые методы `pd.Series`, выясните, для каких рецептов данный шаблон содержится в тексте описания. Выведите на экран количество таких рецептов и 3 примера подходящих описаний (текст описания должен быть виден на экране полностью)."
   ]
  },
  {
   "cell_type": "code",
   "execution_count": 32,
   "metadata": {
    "colab": {
     "base_uri": "https://localhost:8080/"
    },
    "id": "Q7OSz51mh842",
    "outputId": "83d1a377-5cf8-4453-fc70-b5a2eb5aa82c"
   },
   "outputs": [
    {
     "name": "stdout",
     "output_type": "stream",
     "text": [
      "Количество отзывов с таким шаблоном:  132\n"
     ]
    }
   ],
   "source": [
    "k = 0\n",
    "kostil = -1\n",
    "recipes_nmb = []\n",
    "patt = re.compile(r'^this[\\w\\s]*,\\s?but\\b', re.I)\n",
    "for item in recipe:\n",
    "    kostil += 1\n",
    "    if type(item) == str:\n",
    "        if patt.findall(item) == []:\n",
    "            continue\n",
    "        #print(patt.findall(item))\n",
    "        k += 1\n",
    "        recipes_nmb.append(kostil)\n",
    "    \n",
    "print(\"Количество отзывов с таким шаблоном: \", k)"
   ]
  },
  {
   "cell_type": "code",
   "execution_count": 33,
   "metadata": {
    "id": "FXWMf_6Zh843",
    "outputId": "3a4352a9-6b84-47e0-885d-4659f56e3eff"
   },
   "outputs": [
    {
     "name": "stdout",
     "output_type": "stream",
     "text": [
      "1. this is a great meal eaten the same day ,but even better the next day , if you can wait! add your favourite spices, but try it first as it is and i think that you will enjoy the 'vegetable' taste. good for freezing.\n",
      "\n",
      "2. this was adapted from a recipe i found on the net, but i added julienne onion to the peppers.  this is a meal in itself, or you could have a small slice with a meat dish.  for those that like to have brunch, it's a bit different to your traditional quiche recipes.  if you love cheese, you could add 1/2 cup of your favorite to the egg mixture, then pour over peppers.\n",
      "\n",
      "3. this is kind of similar to some of the other versions out there, but it is the best and easiest i have found\n",
      "\n"
     ]
    }
   ],
   "source": [
    "#выводим на три описания, текст виден полностью\n",
    "for i in range(3):\n",
    "    print(f'''{i+1}. {recipes['description'].iloc[recipes_nmb[i]]}\\n''')"
   ]
  },
  {
   "cell_type": "markdown",
   "metadata": {
    "id": "MhqaN8dBh85M"
   },
   "source": [
    "5\\. В текстах шагов рецептов обыкновенные дроби имеют вид \"a / b\". Используя регулярные выражения, уберите в тексте шагов рецепта с id 72367 пробелы до и после символа дроби. Выведите на экран шаги этого рецепта после их изменения."
   ]
  },
  {
   "cell_type": "code",
   "execution_count": 49,
   "metadata": {
    "id": "GnhjkWSmh85N",
    "outputId": "e90daf97-878d-4170-9f3e-0a2c0f0aea60"
   },
   "outputs": [
    {
     "name": "stdout",
     "output_type": "stream",
     "text": [
      "1. mix butter , flour , 1/3 c\n",
      "2. sugar and 1-1/4 t\n",
      "3. vanilla\n",
      "4. press into greased 9\" springform pan\n",
      "5. mix cream cheese , 1/4 c\n",
      "6. sugar , eggs and 1/2 t\n",
      "7. vanilla beating until fluffy\n",
      "8. pour over dough\n",
      "9. combine apples , 1/3 c\n",
      "10. sugar and cinnamon\n",
      "11. arrange on top of cream cheese mixture and sprinkle with almonds\n",
      "12. bake at 350 for 45-55 minutes , or until tester comes out clean\n"
     ]
    }
   ],
   "source": [
    "steps = recipes_dct[72367]\n",
    "patt = re.compile(r'\\s+/\\s+')\n",
    "\n",
    "for i in range(len(steps)):\n",
    "    steps[i] = patt.sub('/', steps[i])\n",
    "    \n",
    "for i in range(len(steps)):\n",
    "    print(f'{i+1}. {steps[i]}')"
   ]
  },
  {
   "cell_type": "markdown",
   "metadata": {
    "id": "RJt1EDWqh85N"
   },
   "source": [
    "### Сегментация текста"
   ]
  },
  {
   "cell_type": "markdown",
   "metadata": {
    "id": "wIcXOTd3h85O"
   },
   "source": [
    "6\\. Разбейте тексты шагов рецептов на слова при помощи пакета `nltk`. Посчитайте и выведите на экран кол-во уникальных слов среди всех рецептов. Словом называется любая последовательность алфавитных символов (для проверки можно воспользоваться `str.isalpha`). При подсчете количества уникальных слов не учитывайте регистр."
   ]
  },
  {
   "cell_type": "code",
   "execution_count": 85,
   "metadata": {
    "id": "mAq_KXxph85P",
    "outputId": "f172edf2-57ee-40b4-cb9f-6fff1892e9ae"
   },
   "outputs": [
    {
     "data": {
      "text/plain": [
       "15114"
      ]
     },
     "execution_count": 85,
     "metadata": {},
     "output_type": "execute_result"
    }
   ],
   "source": [
    "keys = list(recipes_dct.keys())\n",
    "unique = set()\n",
    "for key, step_l in recipes_dct.items():\n",
    "    for text in step_l:\n",
    "        if text:\n",
    "            tokenizer = nltk.tokenize.RegexpTokenizer(r'\\w+')\n",
    "            tok_l = tokenizer.tokenize(text)\n",
    "            unique.update(tok.lower() for tok in tok_l)\n",
    "\n",
    "line = []\n",
    "for i in range(len(keys)):\n",
    "    for j in range(len(recipes_dct[keys[i]])):\n",
    "        \n",
    "        if type(recipes_dct[keys[i]][j]) != str:\n",
    "            continue\n",
    "        text = recipes_dct[keys[i]][j]\n",
    "        nltk.word_tokenize(text)\n",
    "        tokenizer = nltk.tokenize.RegexpTokenizer(r'\\w+')\n",
    "        t = tokenizer.tokenize(text)\n",
    "        \n",
    "        for l in range(len(t)):\n",
    "            if t[l].lower() in stroka:\n",
    "                continue\n",
    "            line.append(t[l])\n",
    "            \n",
    "f = list(set(line))\n",
    "f_bool = [f[i].isalpha() for i in range(len(f))]\n",
    "alph_tok_l = [tok for tok in unique if tok.isalpha()]\n",
    "len(alph_tok_l)"
   ]
  },
  {
   "cell_type": "markdown",
   "metadata": {
    "id": "9nUu0gm1h85V"
   },
   "source": [
    "7\\. Разбейте описания рецептов из `recipes` на предложения при помощи пакета `nltk`. Найдите 5 самых длинных описаний (по количеству _предложений_) рецептов в датасете и выведите строки фрейма, соответствующие этим рецептами, в порядке убывания длины."
   ]
  },
  {
   "cell_type": "code",
   "execution_count": 87,
   "metadata": {
    "id": "qQ3h7xzPh85W",
    "outputId": "fb85c3e0-3761-4b3d-ff60-649bd678a955"
   },
   "outputs": [
    {
     "name": "stderr",
     "output_type": "stream",
     "text": [
      "[nltk_data] Downloading package punkt to\n",
      "[nltk_data]     C:\\Users\\VareNiC\\AppData\\Roaming\\nltk_data...\n",
      "[nltk_data]   Package punkt is already up-to-date!\n"
     ]
    },
    {
     "data": {
      "text/plain": [
       "True"
      ]
     },
     "execution_count": 87,
     "metadata": {},
     "output_type": "execute_result"
    }
   ],
   "source": [
    "import nltk\n",
    "nltk.download('punkt')"
   ]
  },
  {
   "cell_type": "code",
   "execution_count": 95,
   "metadata": {
    "id": "JMCXWdMoh85W",
    "scrolled": false
   },
   "outputs": [
    {
     "name": "stdout",
     "output_type": "stream",
     "text": [
      "18408 \n",
      " this wonderful icing is used for icing cakes and cookies as well as for borders and art work on cakes.  it makes a delicious filling also between the layers of cakes and under fondant icing.  you can make roses but it takes 3 or more days to dry them depending on the humidity. \r\n",
      "\r\n",
      "there are many versions of “buttercream” icing. some are made with eggs and all butter.  some varieties, you have to cook your sugar to a softball stage.  others are 100% shortening or a combination of shortening and butter.\r\n",
      "\r\n",
      "each decorator has his or her favorite.  i personally think that the best taste and textured recipe is the one that has you cook your sugar, add to whipped eggs and use pounds of butter per batch. but…. i live in a state that can easily be a 100 degrees for days on end during the summer and you know what butter does on hot days.  it melts!  a greasy puddle of melted icing on a cake plate is not something i want to look at or eat.  \r\n",
      "\r\n",
      "your top notch decorators have a few options we don’t.  they have huge refrigerators to store their cakes in, and refrigerated vehicles that they can use to deliver decorated cakes. i even know a few that refuse to deliver at all. if you want their cake, you come and get it and it’s your responsibility if it melts.  these decorators don’t even turn on their ovens for a wedding cake for less than $2000.  \r\n",
      "\r\n",
      "the following recipes for buttercream icing hold up pretty well in the heat and humidity, but if you know that your cake will be out in very high temperatures, then don’t use any butter and use only a high quality shortening.  \r\n",
      "\r\n",
      "shortening:  \r\n",
      "\r\n",
      "solid shortenings definitely have their place in baking. so i’m going to talk taste tests. crisco is the hands down winner. it has a clean taste with the melting point of 106 degrees. butter melts somewhere between 88 and 98 degrees f. depending on the amount of fat in the brand.  you can see that if you need to serve a pure buttercream decorated cake, on a hot august afternoon, you could have melted roses (and i do mean greasy puddles) on the tablecloth. this is when a good quality shortening will be a great blessing. i have been told by decorator friends that some of the warehouse brand shortenings leave a grainy consistency to the icing no matter what you do.  \r\n",
      "\r\n",
      "powdered (confectioner's) sugar:  \r\n",
      "\r\n",
      "regarding powdered sugar. please use a cane sugar. i prefer c&h powdered (confectioners) sugar.  many of the cheaper brands use sugar beets for their base.  i don’t know the chemistry behind it but you definitely get different textures to your icing that can vary from batch to batch.  i spent a few months being very frustrated with the quality of my icing until a kind lady did a bit of trouble shooting for me. she recommended the cane sugar and i’ve been blessing her ever since.\r\n",
      "\r\n",
      "top-quality brands:  \r\n",
      "\r\n",
      "please be safe, buy a quality brands and then stick with it for the best results. a friend of mine, who is a wonderful cook and baker, travels a lot and she often prepares treats for her hosts. she’s learned to ask the host to have her favorite shortening and flour on hand. she has even made up a little makeup type case that carries her favorite extracts and precious spices. that way she knows what she is working with, how it handles, and what tastes she can expect for the finished product. some surprises are not pleasant. \r\n",
      "\r\n",
      "storing buttercream icing: \r\n",
      "\r\n",
      "if you are not going to be using the icing right away, place it in a clean, sealable bowl. store it in the refrigerator but please don’t place it next to the marinating salmon, garlic or broccoli.  you do not want those flavors in your icing!  i like to use my icing within a few days but it will hold in the cold refrigerator for a couple of weeks if necessary.  \r\n",
      "\r\n",
      "i often make a double batch of icing the night before i have a baking project.  that way i know that i have plenty of icing, it’s fresh and i don’t have to make it while i’m in the middle of baking the cakes.  the extra can always be used for a batch of cupcakes.\r\n",
      "\r\n",
      "when you remove the icing from the refrigerator, you might notice that the icing has taken on a sponge like texture. do yourself a favor and place the icing in a bowl and mix by hand using a back and forth, smashing motion with a spoon or icing spatula. what you want to do is to smash the bubbles out of the icing. this extra step will help to give you the smoothest icing for a pretty top and sides of the cake. i have found that you will get an even better texture of icing if it is at room temperature before you try to do your icing.\r\n",
      "\r\n",
      "bad buttercream icing days:  \r\n",
      "\r\n",
      "one thing that seems very silly but is true. there are bad buttercream days! i’ve asked quite a few decorators about this and every one says “yes, there are lousy days”. i’m not sure what causes the problem. \r\n",
      "\r\n",
      "it could be that every human has bad days so they blame the buttercream. \r\n",
      "\r\n",
      "it may be the humidity or that there is a low pressure system hanging over your town. \r\n",
      "\r\n",
      "i just know why but it is a perceived fact. the way i have handled the problem is that i changed the decoration on the cake.  i couldn’t get the smooth top or sides as i originally planned. writing a greeting on a messy top would look awful so i changed the design idea and put flowers everywhere. i could have also done a basket weave technique around the sides. just go with the flow, and don’t get frustrated. aunt martha won’t chuck the cake at you if you don’t write her name on the top this time. remember that you are creating something that is to be eaten so have fun with it.  \r\n",
      "\r\n",
      "different mixers:\r\n",
      "\r\n",
      "if you have a heavy duty counter mixer, you can prepare a whole batch at one time.  if you are using a hand mixer, divide the recipe in half.  if you notice the mixer getting hot, please stop and let the machine cool off.\r\n",
      "\r\n",
      "i also prefer to mix the buttercream on a low setting. it seems that the higher setting do the job faster but you also will get a spongy texture to the icing. i don’t want that quality in my final ice coating or flowers on the cake. \r\n",
      "\r\n",
      "using weight scales:\r\n",
      "\r\n",
      "1 cup of crisco weighs 6 ounces.  \r\n",
      "\r\n",
      "i put a piece of wax paper on my scale and start plopping spoons of shortening on until i get the desired weight. it really saves on the cleanup.  \r\n",
      "\r\n",
      "\r\n",
      "\r\n",
      "recipe from peggy at whatscookingamerica.net\n",
      "\n",
      "\n",
      "481 \n",
      " a translucent golden-brown crust allows the green of the avocado to be seen.  the crispy exterior is a counterpoint to the unctuous interior.  these are a signature dish for me, and the one i most often get requests to make (although my seafood and ricotta stuffed buckwheat pancakes run a close second).\r\n",
      "\r\n",
      "these fritters came about ten years ago when i was shopping for a dinner i was making for a friend who is a cia-trained chef.  i was in a vegetable market and saw these gorgeous avocados that i just knew would be ripe in the next two days.  i tried to think of what i could do with them since a) everyone serves cold avocado, and b) i really am not fond of guacamole.  as i tried to think of what i could make with them that was hot, the work 'fritters' jumped into my head.  having never made a fritter before, i was a little surprised to have that thought; but having never known when a vegetable was going to be ripe before i figured i was on a roll and decided to go for it.\r\n",
      "\r\n",
      "to serve with my never-before-tried-fritters, i decided to make a crème fraîche-lime-cayenne dipping sauce.  so i made fresh crème fraîche, and used it as a base not only for this dip, but for a tia maria sauce to go with the flourless chocolate cake i made for dessert (another never-before made item, but with the recipe from cook's illustrated it was the only thing i wasn't making up as i went along).\r\n",
      "\r\n",
      "the result of the fritters was that i got to taste the test fritter, then had to dive across the couch before the last one was devoured in order to have a second.\r\n",
      "\r\n",
      "the one evolution in the recipe is the change from cayenne to chipotle in the dip.  i like the smokiness, and it gives a rough edge to something very smooth - i am all about contrast.  feel free to use whatever chile or combination thereof that you like best.  this dip is easy and stands on it's own at a party for anything you want to dip into it.  i have also made it with vegan sour cream with great results.\r\n",
      "\r\n",
      "the name alligator claws comes from an alternate name for the avocado: the alligator pear, as well as the fact that the wedges of avocado look like claws.\r\n",
      "\r\n",
      "(for those not familiar with the name alligator pear, it derives from both the tough, textured exterior - reminiscent of an alligator's hide, and the fact that you really can't eat one until it softens - just like a pear.)\r\n",
      "\r\n",
      "alligator claws are also a great name to call them if you have kids who either won't eat anything that sounds weird and you want to keep them to yourself, or - if you want your kids to eat them - if you have kids who'll only eat things that will gross other people out.\r\n",
      "\r\n",
      "if you are preparing these for kids (and i recommend you do whatever name you choose to call them), protect their palates and tone down the heat of the sauce.  maybe skip the chiles altogether and put in just a hint of finely ground pepper (white pepper won't look like black specks throughout the dip - i'm normally not that fussy, but it's something kids will notice).\r\n",
      "\r\n",
      "allow half an avocado per person.  this is so rich that more is too much.\r\n",
      "\r\n",
      "note:\r\n",
      "you can easily cut the recipe in half, all the batter is is a one-to-one mix of flour & water (someone has suggested trying tempura batter which comes in a mix at many supermarkets - i tend to be a from-scratch kind of guy.  or do i just mean itchy?).\r\n",
      "\r\n",
      "enjoy.\r\n",
      "\r\n",
      "-- text by michael david winter, aka the poker roach\n",
      "\n",
      "\n",
      "22566 \n",
      " this is one of the best soups i've ever made and it is even worthy of company.  so simple, yet rich in deep, mushroomy flavor.  the inspiration was zaar #26877, a delicious mushroom rice casserole.  i found i couldn't stop eating the liquid before putting the casserole into the oven and that gave me the idea that the base  would make a delicious soup.  and it does! \r\n",
      "use plenty of fresh mushrooms.  i buy them when they are marked 1/2 price at the grocery, as this is a good way to use your 'shrooms that are starting to get dark.  it is the soy sauce that transforms the broth from ho-hum to yum.  i try to use low sodium or home-made no sodium chicken broth so that i can use the soy for the sodium.  there is no sense of \"asian\" in this soup at all.  ( i would not make this without the soy. )  just a little bit adds the depth of flavor and even color that transforms the soup.\r\n",
      "\r\n",
      "notes:\r\n",
      "1. if you want to make it into \"cream of\" just add some evaporated milk...delicious. \r\n",
      "\r\n",
      "2.  once i broke up a leftover ground sirloin burger into my soup bowl and nuked it...was that ever good.\r\n",
      "\r\n",
      "3. i did do this recipe with sinewy beef scraps cut from a roast once.  i browned the beef in the bottom of the pan, added the butter and onions and continued as written.  the beef added great color and flavor.  in this case, i threw the beef piece away, because it had too much sinew, but it was a great addition!  i ended up using less soy.\r\n",
      "\r\n",
      "4.  i have eye-ball made this soup with amounts i had in the fridge/cupboard and it was great.  so if you don't have that many mushrooms, make it anyway, just keep tasting it until it tastes good to you! \r\n",
      "\r\n",
      "5.  i've made it without food-processing the onions, and that worked just as well.\r\n",
      "\r\n",
      " lots of flexibility here!  try it, it might be the best barley mushroom soup you've ever had!\n",
      "\n",
      "\n",
      "6779 \n",
      " i wrote this because there are an astounding lack of chocolate tea recipes on the internet. \r\n",
      "\r\n",
      " the first time i heard about chocolate tea was doing a web search on chocolate. there seem to be a few companies out there who sell chocolate tea. i like to stay up late and had run out of coffee. i was in real need for a good tasting caffene beverage. i first thought chocolate tea would be yucky. we are conditioned to accept chocolate with coffee as a rule but not tea. i was very mistaken! \r\n",
      "\r\n",
      " tea and chocolate goes very well with each other and it is also very good for your body. both tea and chocolate are loaded with antioxidents. you may however not want to give this to small children because of the caffene. \r\n",
      "\r\n",
      " not having a recipe to follow, i created one. (this one) i used these ingredients because i had them on hand and it was quicker than hunting around for my pepermint extract or messing with my powered cocoa.\r\n",
      "\r\n",
      " this being said, if you do want to use powered cocoa or pepermint extract instead of the ovaltine and lifesavers please do so. experiment. this recipe is \"opensource\" :-)\r\n",
      "\r\n",
      " you will have to adjust the sugar levels to taste. if you like you can even omit the mints. i used them and i find it gives the beverage that spceial something.\r\n",
      "\r\n",
      "this recipe makes one large coffee cup of beverage.\r\n",
      "\r\n",
      "if you use regular size coffee cups you may get two servings out of this if serving each person one serving each.\r\n",
      "\r\n",
      "to serve 1 serving each to 2 or 3 people using large coffee cups, double or tripple the recipie accodingly\r\n",
      "\r\n",
      "enjoy !\r\n",
      "\r\n",
      "please let me klnow if you like it! :-)\n",
      "\n",
      "\n",
      "16296 \n",
      " the first time i made this cake i grated a million pounds of carrots on a knucklebuster.  then they invented cuisinarts!  now it is much faster to shred the carrots on a fine shredding disk and no bloody knuckles!  i have baked it in 8\", 9\", 9x13\" pans so if you want to experiment with pan size it works.  one thing i found was baking and stacking the three layers is tricky.  my favorite way is two 8\" pans for a nice layer cake and an 8\" square pan to put into the freezer for unexpected company. i hope you try this wonderful cake.  update:  in the spirit of carrot cake stories, this cake was invented by a bunny named foo-foo.  he is very famous and even has a hit song which goes like this: sing to the tune of 'down by the station'..........     \r\n",
      "\r\n",
      "\r\n",
      " little bunny foo foo,\r\n",
      "hopping through the forest,\r\n",
      "scooping up the field mice,\r\n",
      "and boppin' 'em on the head.\r\n",
      "\r\n",
      "down came the good fairy and she said - \r\n",
      "\r\n",
      "\"little bunny foo foo,\r\n",
      "i don't want to see you,\r\n",
      "scooping up the field mice,\r\n",
      "and boppin' 'em on the head.\r\n",
      "i'll give you three chances,\r\n",
      "and if you don't behave ...\r\n",
      "i'll turn you into a goon!\"\r\n",
      "\r\n",
      "the next day:\r\n",
      "\r\n",
      "little bunny foo foo,\r\n",
      "hopping through the forest,\r\n",
      "scooping up the field mice,\r\n",
      "and boppin' 'em on the head.\r\n",
      "\r\n",
      "down came the good fairy and she said:\r\n",
      "\r\n",
      "\"little bunny foo foo,\r\n",
      "i don't want to see you.\r\n",
      "scooping up the field mice.\r\n",
      "and boppin' 'em on the head.\r\n",
      "i'll give you two more chances,\r\n",
      "and if you don't behave...\r\n",
      "i'll turn you into a goon!\"\r\n",
      "\r\n",
      "the next day:\r\n",
      "\r\n",
      "little bunny foo foo,\r\n",
      "hopping through the forest,\r\n",
      "scooping up the field mice,\r\n",
      "and boppin' 'em on the head.\r\n",
      "\r\n",
      "down came the good fairy and she said:\r\n",
      "\r\n",
      "\"little bunny foo foo,\r\n",
      "i don't want to see you,\r\n",
      "scooping up the field mice,\r\n",
      "and boppin' 'em on the head.\r\n",
      "i'll give you one more chance,\r\n",
      "and if you don't behave..........\r\n",
      "i'll turn you into a goon!\"\r\n",
      "\r\n",
      "the next day:\r\n",
      "\r\n",
      "little bunny foo foo,\r\n",
      "hopping through the forest,\r\n",
      "scooping up the field mice,\r\n",
      "and boppin' 'em on the head,\r\n",
      "\r\n",
      "down came the good fairy and she said\r\n",
      "\r\n",
      "\"little bunny foo foo,\r\n",
      "i don't want to see you,\r\n",
      "scooping up the field mice,\r\n",
      "and boppin' 'em on the head.\r\n",
      "i gave you three chances\r\n",
      "and you didn't behave\r\n",
      "now you're a goon! poof!!\"\r\n",
      "\r\n",
      "the moral of the story is:\r\n",
      "hare today, goon tomorrow\n",
      "\n",
      "\n"
     ]
    }
   ],
   "source": [
    "def split_sentences(description):\n",
    "    return nltk.sent_tokenize(str(description))\n",
    "\n",
    "\n",
    "recipes['sentences'] = recipes['description'].apply(split_sentences)\n",
    "recipes_sorted = recipes.sort_values(by=['sentences'], key=lambda x: x.str.len(), ascending=False)\n",
    "top_5_longest = recipes_sorted.head(5)\n",
    "for index, row in top_5_longest.iterrows():\n",
    "    print(index, '\\n', row['description'])\n",
    "    print('\\n')\n"
   ]
  },
  {
   "cell_type": "markdown",
   "metadata": {
    "id": "wL-Bgs9Ph85Y"
   },
   "source": [
    "8\\. Напишите функцию, которая для заданного предложения выводит информацию о частях речи слов, входящих в предложение, в следующем виде:\n",
    "```\n",
    "PRP   VBD   DT      NNS     CC   VBD      NNS        RB   \n",
    " I  omitted the raspberries and added strawberries instead\n",
    "``` \n",
    "Для определения части речи слова можно воспользоваться `nltk.pos_tag`.\n",
    "\n",
    "Проверьте работоспособность функции на названии рецепта с id 241106.\n",
    "\n",
    "Обратите внимание, что часть речи должна находиться ровно посередине над соотвествующим словом, а между самими словами должен быть ровно один пробел.\n"
   ]
  },
  {
   "cell_type": "code",
   "execution_count": 103,
   "metadata": {},
   "outputs": [
    {
     "name": "stderr",
     "output_type": "stream",
     "text": [
      "[nltk_data] Downloading package averaged_perceptron_tagger to\n",
      "[nltk_data]     C:\\Users\\VareNiC\\AppData\\Roaming\\nltk_data...\n",
      "[nltk_data]   Unzipping taggers\\averaged_perceptron_tagger.zip.\n"
     ]
    },
    {
     "data": {
      "text/plain": [
       "True"
      ]
     },
     "execution_count": 103,
     "metadata": {},
     "output_type": "execute_result"
    }
   ],
   "source": [
    "import nltk\n",
    "from nltk.tokenize import word_tokenize\n",
    "nltk.download('averaged_perceptron_tagger')"
   ]
  },
  {
   "cell_type": "code",
   "execution_count": 119,
   "metadata": {},
   "outputs": [
    {
     "name": "stdout",
     "output_type": "stream",
     "text": [
      "   JJ      NNS    IN     NNS     VBP    JJ   CC  JJ    NNS   \n",
      "eggplant steaks with chickpeas feta cheese and black olives \n"
     ]
    }
   ],
   "source": [
    "def get_parts_of_speech(sentence):\n",
    "    words = word_tokenize(sentence)\n",
    "    pos_tags = nltk.pos_tag(words)\n",
    "    return pos_tags\n",
    "\n",
    "recipe_name = recipes.loc[recipes['id'] == 241106]['name'].values[0]\n",
    "pos_tags = get_parts_of_speech(recipe_name)\n",
    "\n",
    "tags, line = '', ''\n",
    "for tag in pos_tags:\n",
    "    tags += ' ' * (len(tag[0]) // 2 - 1) + tag[1] + ' ' * (len(tag[0]) // 2)\n",
    "    line += tag[0] + ' '\n",
    "\n",
    "print(tags)\n",
    "print(line)\n"
   ]
  },
  {
   "cell_type": "code",
   "execution_count": null,
   "metadata": {},
   "outputs": [],
   "source": []
  }
 ],
 "metadata": {
  "colab": {
   "provenance": []
  },
  "kernelspec": {
   "display_name": "Python 3 (ipykernel)",
   "language": "python",
   "name": "python3"
  },
  "language_info": {
   "codemirror_mode": {
    "name": "ipython",
    "version": 3
   },
   "file_extension": ".py",
   "mimetype": "text/x-python",
   "name": "python",
   "nbconvert_exporter": "python",
   "pygments_lexer": "ipython3",
   "version": "3.11.1"
  }
 },
 "nbformat": 4,
 "nbformat_minor": 1
}
